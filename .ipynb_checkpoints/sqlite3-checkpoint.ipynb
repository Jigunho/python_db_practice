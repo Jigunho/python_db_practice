{
 "cells": [
  {
   "cell_type": "code",
   "execution_count": 3,
   "metadata": {},
   "outputs": [],
   "source": [
    "import sqlite3\n",
    "import os \n",
    "import glob\n",
    "import pandas as np \n",
    "import numpy as np\n",
    "from datetime import datetime, timedelta"
   ]
  },
  {
   "cell_type": "code",
   "execution_count": 7,
   "metadata": {},
   "outputs": [],
   "source": [
    "def get_conn():\n",
    "#     conn = sqlite3.connect('/Users/gh.ji/execution_monitoring/backend/db.sqlite3')\n",
    "    conn = sqlite3.connect('/Users/Jigeonho/execution_monitoring/backend/db.sqlite3') # for mac\n",
    "\n",
    "    return conn"
   ]
  },
  {
   "cell_type": "code",
   "execution_count": 8,
   "metadata": {},
   "outputs": [],
   "source": [
    "def insert(conn, sql, datas):\n",
    "    \n",
    "    cur = conn.cursor()\n",
    "    \n",
    "    cur.executemany(insert_sql, datas)\n",
    "    conn.commit()\n",
    "    conn.close()"
   ]
  },
  {
   "cell_type": "code",
   "execution_count": 11,
   "metadata": {},
   "outputs": [],
   "source": [
    "def showtable(conn):\n",
    "    cur = conn.cursor()\n",
    "    table_list = 'SELECT * FROM sqlite_master WHERE type=\\'table\\';'    \n",
    "    cur.execute(table_list)\n",
    "    rows = cur.fetchall()\n",
    "\n",
    "\n",
    "    for row in rows:\n",
    "        print(row[1])"
   ]
  },
  {
   "cell_type": "code",
   "execution_count": 12,
   "metadata": {},
   "outputs": [
    {
     "name": "stdout",
     "output_type": "stream",
     "text": [
      "django_migrations\n",
      "sqlite_sequence\n",
      "auth_group_permissions\n",
      "auth_user_groups\n",
      "auth_user_user_permissions\n",
      "django_admin_log\n",
      "django_content_type\n",
      "auth_permission\n",
      "django_session\n",
      "auth_group\n",
      "auth_user\n",
      "repo_account\n",
      "repo_server\n",
      "repo_strategy\n",
      "repo_strategydailytradeinfo\n"
     ]
    }
   ],
   "source": [
    "conn = get_conn()\n",
    "showtable(conn)"
   ]
  },
  {
   "cell_type": "code",
   "execution_count": null,
   "metadata": {},
   "outputs": [],
   "source": []
  },
  {
   "cell_type": "code",
   "execution_count": 12,
   "metadata": {},
   "outputs": [],
   "source": [
    "insert_sql = 'INSERT INTO repo_serversysteminfo(server_id, date, register_execution_dur, \\\n",
    "    update_deposite_dur, avg_tick_delay, max_tick_delay,\\\n",
    "    num_account, num_isin, num_account_isin, ) VALUES (?, ?, ?, ?, ?, ?)'\n",
    "\n",
    "today = datetime(2021,9,1)\n",
    "\n",
    "\n",
    "base_r_e_d = 100\n",
    "base_u_p_d = 10\n",
    "base_a_t_d = 5\n",
    "base_m_t_d = 20\n",
    "arr = []\n",
    "for i in range(1, 100):\n",
    "    \n",
    "    day = today + timedelta(days=i)\n",
    "    if day.weekday() in [5,6]:\n",
    "        continue\n",
    "    day_ = datetime.strftime(day, '%Y%m%d')\n",
    "#     print(day_)\n",
    "    day__ = \"\\'{}\\'\".format(day_)\n",
    "#     print(day_, day__)\n",
    "    r_e_d = base_r_e_d + (np.random.random() * 30 -15)\n",
    "    u_p_d = base_u_p_d + (np.random.random() * 10 -5)\n",
    "    a_t_d = base_a_t_d + (np.random.random() * 3 -1.5)\n",
    "    m_t_d = base_m_t_d + (np.random.random() * 10 -5 )\n",
    "    arr.append((1, day, r_e_d, u_p_d, a_t_d, m_t_d))"
   ]
  },
  {
   "cell_type": "code",
   "execution_count": null,
   "metadata": {},
   "outputs": [],
   "source": []
  },
  {
   "cell_type": "code",
   "execution_count": 38,
   "metadata": {},
   "outputs": [],
   "source": [
    "insert_sql = 'INSERT INTO repo_strategydailytradeinfo(date, num_account, num_isin, \\\n",
    "    num_orders, strategy_id) VALUES (?,  ?, ?, ?, ? )'\n",
    "\n",
    "today = datetime(2021,9,1)\n",
    "\n",
    "base_n_a = 2000\n",
    "base_n_i = 30\n",
    "base_n_o = 5000\n",
    "arr2 = []\n",
    "for i in range(1, 100):\n",
    "    \n",
    "    day = today + timedelta(days=i)\n",
    "    if day.weekday() in [5,6]:\n",
    "        continue\n",
    "    day_ = datetime.strftime(day, '%Y%m%d')\n",
    "\n",
    "    \n",
    "    n_a = base_n_a + int((np.random.random() * 1000 -500))\n",
    "    n_i = base_n_i + int((np.random.random() * 20 -10))\n",
    "    n_o = base_n_o + int((np.random.random() * 4000 -300))\n",
    "\n",
    "    arr2.append((day, n_a, n_i, n_o,3))"
   ]
  },
  {
   "cell_type": "code",
   "execution_count": null,
   "metadata": {},
   "outputs": [],
   "source": []
  },
  {
   "cell_type": "code",
   "execution_count": null,
   "metadata": {},
   "outputs": [],
   "source": []
  },
  {
   "cell_type": "code",
   "execution_count": null,
   "metadata": {},
   "outputs": [],
   "source": []
  },
  {
   "cell_type": "code",
   "execution_count": null,
   "metadata": {},
   "outputs": [],
   "source": []
  },
  {
   "cell_type": "code",
   "execution_count": null,
   "metadata": {},
   "outputs": [],
   "source": []
  },
  {
   "cell_type": "code",
   "execution_count": null,
   "metadata": {},
   "outputs": [],
   "source": []
  },
  {
   "cell_type": "code",
   "execution_count": null,
   "metadata": {},
   "outputs": [],
   "source": []
  }
 ],
 "metadata": {
  "kernelspec": {
   "display_name": "Python 3",
   "language": "python",
   "name": "python3"
  },
  "language_info": {
   "codemirror_mode": {
    "name": "ipython",
    "version": 3
   },
   "file_extension": ".py",
   "mimetype": "text/x-python",
   "name": "python",
   "nbconvert_exporter": "python",
   "pygments_lexer": "ipython3",
   "version": "3.6.10"
  }
 },
 "nbformat": 4,
 "nbformat_minor": 4
}
